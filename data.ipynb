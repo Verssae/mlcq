{
 "metadata": {
  "language_info": {
   "codemirror_mode": {
    "name": "ipython",
    "version": 3
   },
   "file_extension": ".py",
   "mimetype": "text/x-python",
   "name": "python",
   "nbconvert_exporter": "python",
   "pygments_lexer": "ipython3",
   "version": "3.8.5-final"
  },
  "orig_nbformat": 2,
  "kernelspec": {
   "name": "Python 3.8.5 64-bit ('paper': conda)",
   "display_name": "Python 3.8.5 64-bit ('paper': conda)",
   "metadata": {
    "interpreter": {
     "hash": "5f640b0ed31a12fcffaa1e44d8b03c066c3a27063d251cf3bbb15f2ec5efccb1"
    }
   }
  }
 },
 "nbformat": 4,
 "nbformat_minor": 2,
 "cells": [
  {
   "source": [
    "# MLCQ Dataset Preprocessing"
   ],
   "cell_type": "markdown",
   "metadata": {}
  },
  {
   "cell_type": "code",
   "execution_count": 1,
   "metadata": {},
   "outputs": [],
   "source": [
    "import numpy as np \n",
    "import pandas as pd\n",
    "import os\n",
    "\n",
    "def sevrity_to_numeric(severity):\n",
    "    if severity == 'none':\n",
    "        return 0\n",
    "    elif severity == 'minor':\n",
    "        return 1\n",
    "    elif severity == 'major':\n",
    "        return 2\n",
    "    elif severity == 'critical':\n",
    "        return 3\n",
    "    else:\n",
    "        print(f'sev: {severity}')\n",
    "        raise Exception \n",
    "def combine_severities(df, sample):\n",
    "    rows = df[df.sample_id == sample]\n",
    "    return [i for i in rows.severity.array]"
   ]
  },
  {
   "cell_type": "code",
   "execution_count": 2,
   "metadata": {
    "tags": []
   },
   "outputs": [
    {
     "output_type": "execute_result",
     "data": {
      "text/plain": [
       "          id  sample_id         smell      type  \\\n",
       "1364    1902    3698323    data class     class   \n",
       "1357    1895    3698602  feature envy  function   \n",
       "1359    1897    3698665  feature envy  function   \n",
       "1355    1893    3698860   long method  function   \n",
       "1362    1900    3699227   long method  function   \n",
       "...      ...        ...           ...       ...   \n",
       "7110    7689    9540354          blob     class   \n",
       "10206  10808    9542671    data class     class   \n",
       "4781    5352    9542718  feature envy  function   \n",
       "9135    9733    9548458          blob     class   \n",
       "4156    4722    9553496          blob     class   \n",
       "\n",
       "                                               code_name  \\\n",
       "1364   com.amazon.ask.dispatcher.request.handler.impl...   \n",
       "1357   com.amazon.ask.request.mapper.impl.BaseRequest...   \n",
       "1359   com.amazon.ask.builder.impl.AbstractSkillBuild...   \n",
       "1355   com.alibaba.android.arouter.facade.model.Route...   \n",
       "1362   com.alibaba.android.arouter.facade.enums.#getC...   \n",
       "...                                                  ...   \n",
       "7110   org.apache.hadoop.yarn.server.nodemanager.cont...   \n",
       "10206  org.apache.hadoop.yarn.webapp.hamlet2.HamletSp...   \n",
       "4781   org.apache.hadoop.mapred.NotRunningJob#killTas...   \n",
       "9135   org.apache.hadoop.metrics2.sink.ganglia.Gangli...   \n",
       "4156   org.apache.hadoop.yarn.server.nodemanager.reco...   \n",
       "\n",
       "                                              repository  \\\n",
       "1364   git@github.com:alexa/alexa-skills-kit-sdk-for-...   \n",
       "1357   git@github.com:alexa/alexa-skills-kit-sdk-for-...   \n",
       "1359   git@github.com:alexa/alexa-skills-kit-sdk-for-...   \n",
       "1355                  git@github.com:alibaba/ARouter.git   \n",
       "1362                  git@github.com:alibaba/ARouter.git   \n",
       "...                                                  ...   \n",
       "7110                    git@github.com:apache/hadoop.git   \n",
       "10206                   git@github.com:apache/hadoop.git   \n",
       "4781                    git@github.com:apache/hadoop.git   \n",
       "9135                    git@github.com:apache/hadoop.git   \n",
       "4156                    git@github.com:apache/hadoop.git   \n",
       "\n",
       "                                    commit_hash  \\\n",
       "1364   bf1e9ccc50d1f3f8408f887f70197ee288fd4bd9   \n",
       "1357   bf1e9ccc50d1f3f8408f887f70197ee288fd4bd9   \n",
       "1359   bf1e9ccc50d1f3f8408f887f70197ee288fd4bd9   \n",
       "1355   93b328569bbdbf75e4aa87f0ecf48c69600591b2   \n",
       "1362   93b328569bbdbf75e4aa87f0ecf48c69600591b2   \n",
       "...                                         ...   \n",
       "7110   128dd91e10080bdcbcd7d555fa3c4105e55a6b51   \n",
       "10206  128dd91e10080bdcbcd7d555fa3c4105e55a6b51   \n",
       "4781   128dd91e10080bdcbcd7d555fa3c4105e55a6b51   \n",
       "9135   128dd91e10080bdcbcd7d555fa3c4105e55a6b51   \n",
       "4156   128dd91e10080bdcbcd7d555fa3c4105e55a6b51   \n",
       "\n",
       "                                                    path  start_line  \\\n",
       "1364   /ask-sdk-core/src/com/amazon/ask/dispatcher/re...          26   \n",
       "1357   /ask-sdk-runtime/src/com/amazon/ask/request/ma...          79   \n",
       "1359   /ask-sdk-runtime/src/com/amazon/ask/builder/im...          91   \n",
       "1355   /arouter-annotation/src/main/java/com/alibaba/...         200   \n",
       "1362   /arouter-annotation/src/main/java/com/alibaba/...          32   \n",
       "...                                                  ...         ...   \n",
       "7110   /hadoop-yarn-project/hadoop-yarn/hadoop-yarn-s...          24   \n",
       "10206  /hadoop-yarn-project/hadoop-yarn/hadoop-yarn-c...        1772   \n",
       "4781   /hadoop-mapreduce-project/hadoop-mapreduce-cli...         213   \n",
       "9135   /hadoop-common-project/hadoop-common/src/main/...          46   \n",
       "4156   /hadoop-yarn-project/hadoop-yarn/hadoop-yarn-s...          41   \n",
       "\n",
       "       end_line                                               link  \\\n",
       "1364         59  https://github.com/alexa/alexa-skills-kit-sdk-...   \n",
       "1357         81  https://github.com/alexa/alexa-skills-kit-sdk-...   \n",
       "1359         94  https://github.com/alexa/alexa-skills-kit-sdk-...   \n",
       "1355        213  https://github.com/alibaba/ARouter/blob/93b328...   \n",
       "1362         34  https://github.com/alibaba/ARouter/blob/93b328...   \n",
       "...         ...                                                ...   \n",
       "7110         39  https://github.com/apache/hadoop/blob/128dd91e...   \n",
       "10206      1820  https://github.com/apache/hadoop/blob/128dd91e...   \n",
       "4781        219  https://github.com/apache/hadoop/blob/128dd91e...   \n",
       "9135        253  https://github.com/apache/hadoop/blob/128dd91e...   \n",
       "4156        294  https://github.com/apache/hadoop/blob/128dd91e...   \n",
       "\n",
       "       is_from_industry_relevant_project          severities       avg  \n",
       "1364                                 1.0              [0, 0]  0.000000  \n",
       "1357                                 1.0              [0, 0]  0.000000  \n",
       "1359                                 1.0              [0, 0]  0.000000  \n",
       "1355                                 1.0              [0, 0]  0.000000  \n",
       "1362                                 1.0              [0, 0]  0.000000  \n",
       "...                                  ...                 ...       ...  \n",
       "7110                                 1.0              [0, 0]  0.000000  \n",
       "10206                                1.0  [0, 0, 0, 2, 0, 0]  0.333333  \n",
       "4781                                 1.0              [0, 0]  0.000000  \n",
       "9135                                 1.0              [0, 0]  0.000000  \n",
       "4156                                 1.0              [0, 0]  0.000000  \n",
       "\n",
       "[4770 rows x 14 columns]"
      ],
      "text/html": "<div>\n<style scoped>\n    .dataframe tbody tr th:only-of-type {\n        vertical-align: middle;\n    }\n\n    .dataframe tbody tr th {\n        vertical-align: top;\n    }\n\n    .dataframe thead th {\n        text-align: right;\n    }\n</style>\n<table border=\"1\" class=\"dataframe\">\n  <thead>\n    <tr style=\"text-align: right;\">\n      <th></th>\n      <th>id</th>\n      <th>sample_id</th>\n      <th>smell</th>\n      <th>type</th>\n      <th>code_name</th>\n      <th>repository</th>\n      <th>commit_hash</th>\n      <th>path</th>\n      <th>start_line</th>\n      <th>end_line</th>\n      <th>link</th>\n      <th>is_from_industry_relevant_project</th>\n      <th>severities</th>\n      <th>avg</th>\n    </tr>\n  </thead>\n  <tbody>\n    <tr>\n      <th>1364</th>\n      <td>1902</td>\n      <td>3698323</td>\n      <td>data class</td>\n      <td>class</td>\n      <td>com.amazon.ask.dispatcher.request.handler.impl...</td>\n      <td>git@github.com:alexa/alexa-skills-kit-sdk-for-...</td>\n      <td>bf1e9ccc50d1f3f8408f887f70197ee288fd4bd9</td>\n      <td>/ask-sdk-core/src/com/amazon/ask/dispatcher/re...</td>\n      <td>26</td>\n      <td>59</td>\n      <td>https://github.com/alexa/alexa-skills-kit-sdk-...</td>\n      <td>1.0</td>\n      <td>[0, 0]</td>\n      <td>0.000000</td>\n    </tr>\n    <tr>\n      <th>1357</th>\n      <td>1895</td>\n      <td>3698602</td>\n      <td>feature envy</td>\n      <td>function</td>\n      <td>com.amazon.ask.request.mapper.impl.BaseRequest...</td>\n      <td>git@github.com:alexa/alexa-skills-kit-sdk-for-...</td>\n      <td>bf1e9ccc50d1f3f8408f887f70197ee288fd4bd9</td>\n      <td>/ask-sdk-runtime/src/com/amazon/ask/request/ma...</td>\n      <td>79</td>\n      <td>81</td>\n      <td>https://github.com/alexa/alexa-skills-kit-sdk-...</td>\n      <td>1.0</td>\n      <td>[0, 0]</td>\n      <td>0.000000</td>\n    </tr>\n    <tr>\n      <th>1359</th>\n      <td>1897</td>\n      <td>3698665</td>\n      <td>feature envy</td>\n      <td>function</td>\n      <td>com.amazon.ask.builder.impl.AbstractSkillBuild...</td>\n      <td>git@github.com:alexa/alexa-skills-kit-sdk-for-...</td>\n      <td>bf1e9ccc50d1f3f8408f887f70197ee288fd4bd9</td>\n      <td>/ask-sdk-runtime/src/com/amazon/ask/builder/im...</td>\n      <td>91</td>\n      <td>94</td>\n      <td>https://github.com/alexa/alexa-skills-kit-sdk-...</td>\n      <td>1.0</td>\n      <td>[0, 0]</td>\n      <td>0.000000</td>\n    </tr>\n    <tr>\n      <th>1355</th>\n      <td>1893</td>\n      <td>3698860</td>\n      <td>long method</td>\n      <td>function</td>\n      <td>com.alibaba.android.arouter.facade.model.Route...</td>\n      <td>git@github.com:alibaba/ARouter.git</td>\n      <td>93b328569bbdbf75e4aa87f0ecf48c69600591b2</td>\n      <td>/arouter-annotation/src/main/java/com/alibaba/...</td>\n      <td>200</td>\n      <td>213</td>\n      <td>https://github.com/alibaba/ARouter/blob/93b328...</td>\n      <td>1.0</td>\n      <td>[0, 0]</td>\n      <td>0.000000</td>\n    </tr>\n    <tr>\n      <th>1362</th>\n      <td>1900</td>\n      <td>3699227</td>\n      <td>long method</td>\n      <td>function</td>\n      <td>com.alibaba.android.arouter.facade.enums.#getC...</td>\n      <td>git@github.com:alibaba/ARouter.git</td>\n      <td>93b328569bbdbf75e4aa87f0ecf48c69600591b2</td>\n      <td>/arouter-annotation/src/main/java/com/alibaba/...</td>\n      <td>32</td>\n      <td>34</td>\n      <td>https://github.com/alibaba/ARouter/blob/93b328...</td>\n      <td>1.0</td>\n      <td>[0, 0]</td>\n      <td>0.000000</td>\n    </tr>\n    <tr>\n      <th>...</th>\n      <td>...</td>\n      <td>...</td>\n      <td>...</td>\n      <td>...</td>\n      <td>...</td>\n      <td>...</td>\n      <td>...</td>\n      <td>...</td>\n      <td>...</td>\n      <td>...</td>\n      <td>...</td>\n      <td>...</td>\n      <td>...</td>\n      <td>...</td>\n    </tr>\n    <tr>\n      <th>7110</th>\n      <td>7689</td>\n      <td>9540354</td>\n      <td>blob</td>\n      <td>class</td>\n      <td>org.apache.hadoop.yarn.server.nodemanager.cont...</td>\n      <td>git@github.com:apache/hadoop.git</td>\n      <td>128dd91e10080bdcbcd7d555fa3c4105e55a6b51</td>\n      <td>/hadoop-yarn-project/hadoop-yarn/hadoop-yarn-s...</td>\n      <td>24</td>\n      <td>39</td>\n      <td>https://github.com/apache/hadoop/blob/128dd91e...</td>\n      <td>1.0</td>\n      <td>[0, 0]</td>\n      <td>0.000000</td>\n    </tr>\n    <tr>\n      <th>10206</th>\n      <td>10808</td>\n      <td>9542671</td>\n      <td>data class</td>\n      <td>class</td>\n      <td>org.apache.hadoop.yarn.webapp.hamlet2.HamletSp...</td>\n      <td>git@github.com:apache/hadoop.git</td>\n      <td>128dd91e10080bdcbcd7d555fa3c4105e55a6b51</td>\n      <td>/hadoop-yarn-project/hadoop-yarn/hadoop-yarn-c...</td>\n      <td>1772</td>\n      <td>1820</td>\n      <td>https://github.com/apache/hadoop/blob/128dd91e...</td>\n      <td>1.0</td>\n      <td>[0, 0, 0, 2, 0, 0]</td>\n      <td>0.333333</td>\n    </tr>\n    <tr>\n      <th>4781</th>\n      <td>5352</td>\n      <td>9542718</td>\n      <td>feature envy</td>\n      <td>function</td>\n      <td>org.apache.hadoop.mapred.NotRunningJob#killTas...</td>\n      <td>git@github.com:apache/hadoop.git</td>\n      <td>128dd91e10080bdcbcd7d555fa3c4105e55a6b51</td>\n      <td>/hadoop-mapreduce-project/hadoop-mapreduce-cli...</td>\n      <td>213</td>\n      <td>219</td>\n      <td>https://github.com/apache/hadoop/blob/128dd91e...</td>\n      <td>1.0</td>\n      <td>[0, 0]</td>\n      <td>0.000000</td>\n    </tr>\n    <tr>\n      <th>9135</th>\n      <td>9733</td>\n      <td>9548458</td>\n      <td>blob</td>\n      <td>class</td>\n      <td>org.apache.hadoop.metrics2.sink.ganglia.Gangli...</td>\n      <td>git@github.com:apache/hadoop.git</td>\n      <td>128dd91e10080bdcbcd7d555fa3c4105e55a6b51</td>\n      <td>/hadoop-common-project/hadoop-common/src/main/...</td>\n      <td>46</td>\n      <td>253</td>\n      <td>https://github.com/apache/hadoop/blob/128dd91e...</td>\n      <td>1.0</td>\n      <td>[0, 0]</td>\n      <td>0.000000</td>\n    </tr>\n    <tr>\n      <th>4156</th>\n      <td>4722</td>\n      <td>9553496</td>\n      <td>blob</td>\n      <td>class</td>\n      <td>org.apache.hadoop.yarn.server.nodemanager.reco...</td>\n      <td>git@github.com:apache/hadoop.git</td>\n      <td>128dd91e10080bdcbcd7d555fa3c4105e55a6b51</td>\n      <td>/hadoop-yarn-project/hadoop-yarn/hadoop-yarn-s...</td>\n      <td>41</td>\n      <td>294</td>\n      <td>https://github.com/apache/hadoop/blob/128dd91e...</td>\n      <td>1.0</td>\n      <td>[0, 0]</td>\n      <td>0.000000</td>\n    </tr>\n  </tbody>\n</table>\n<p>4770 rows × 14 columns</p>\n</div>"
     },
     "metadata": {},
     "execution_count": 2
    }
   ],
   "source": [
    "mlcq = pd.read_csv('mlcq.csv').sort_values(by=\"sample_id\")\n",
    "samples = mlcq.drop_duplicates(\"sample_id\").sample_id\n",
    "# severity 제외 공통된 부분만 픽\n",
    "mlcq = mlcq.drop([\"reviewer_id\",\"review_timestamp\"],axis=1)\n",
    "mlcq.severity = mlcq.severity.map(lambda s: sevrity_to_numeric(s))\n",
    "severities = samples.map(lambda sample: combine_severities(mlcq, sample))\n",
    "\n",
    "mlcq[\"severities\"] = pd.Series(severities)\n",
    "mlcq = mlcq.drop([\"severity\"], axis=1)\n",
    "mlcq = mlcq.drop_duplicates([\"sample_id\"])\n",
    "mlcq[\"avg\"] = mlcq.severities.map(lambda ss: np.mean(ss))\n",
    "mlcq"
   ]
  },
  {
   "source": [
    "## LM 분포 비율 by Industry-Relevance"
   ],
   "cell_type": "markdown",
   "metadata": {}
  },
  {
   "cell_type": "code",
   "execution_count": 3,
   "metadata": {},
   "outputs": [],
   "source": [
    "def print_ratio(lnum, ldom, msg=''):\n",
    "    print(f'{msg}{len(lnum) / len(ldom) * 100:2.3}% ({len(lnum)}/{len(ldom)})')"
   ]
  },
  {
   "cell_type": "code",
   "execution_count": 4,
   "metadata": {},
   "outputs": [
    {
     "output_type": "stream",
     "name": "stdout",
     "text": [
      "long methods : 19.5% (245/1258)\nIR=1.0 : 19.5% (213/1093)\nIR=0.5 : 20.3% (16/79)\nIR=0.0 : 18.6% (16/86)\n"
     ]
    }
   ],
   "source": [
    "# Delete redundunt columns\n",
    "data = mlcq[mlcq.smell == \"long method\"]\n",
    "data = data.drop([\"id\",\"sample_id\",\"smell\", \"type\"],axis=1)\n",
    "print_ratio(data[data.avg > 0], data, 'long methods : ')\n",
    "ir = data[data.is_from_industry_relevant_project == 1.0]\n",
    "print_ratio(ir[ir.avg > 0],ir, \"IR=1.0 : \")\n",
    "semi_ir = data[data.is_from_industry_relevant_project == 0.5]\n",
    "print_ratio(semi_ir[semi_ir.avg > 0],semi_ir, \"IR=0.5 : \")\n",
    "non_ir = data[data.is_from_industry_relevant_project == 0.0]\n",
    "print_ratio(non_ir[non_ir.avg > 0],non_ir, \"IR=0.0 : \")\n"
   ]
  },
  {
   "cell_type": "code",
   "execution_count": 5,
   "metadata": {},
   "outputs": [],
   "source": [
    "data.index = [i for i in range(len(data))]\n",
    "# data[\"file\"] = pd.Series([\"\" for i in range(len(data))])\n",
    "# data.head()"
   ]
  },
  {
   "cell_type": "code",
   "execution_count": 6,
   "metadata": {},
   "outputs": [],
   "source": [
    "def raw_url(url):\n",
    "    return url.replace('//github.com/', '//raw.githubusercontent.com/').replace('/blob/', '/').split('/#')[0]"
   ]
  },
  {
   "cell_type": "code",
   "execution_count": 7,
   "metadata": {
    "tags": []
   },
   "outputs": [
    {
     "output_type": "stream",
     "name": "stdout",
     "text": [
      "80\n",
      "83\n",
      "419\n",
      "427\n",
      "452\n",
      "600\n",
      "601\n",
      "861\n",
      "955\n",
      "956\n",
      "957\n"
     ]
    },
    {
     "output_type": "error",
     "ename": "NameError",
     "evalue": "name 'fnames' is not defined",
     "traceback": [
      "\u001b[1;31m---------------------------------------------------------------------------\u001b[0m",
      "\u001b[1;31mNameError\u001b[0m                                 Traceback (most recent call last)",
      "\u001b[1;32m<ipython-input-7-3713c61e0865>\u001b[0m in \u001b[0;36m<module>\u001b[1;34m\u001b[0m\n\u001b[0;32m     12\u001b[0m         \u001b[0mfiles\u001b[0m\u001b[1;33m.\u001b[0m\u001b[0mappend\u001b[0m\u001b[1;33m(\u001b[0m\u001b[1;34m\"ERROR\"\u001b[0m\u001b[1;33m)\u001b[0m\u001b[1;33m\u001b[0m\u001b[1;33m\u001b[0m\u001b[0m\n\u001b[0;32m     13\u001b[0m \u001b[1;33m\u001b[0m\u001b[0m\n\u001b[1;32m---> 14\u001b[1;33m \u001b[0mdata\u001b[0m\u001b[1;33m[\u001b[0m\u001b[1;34m\"file\"\u001b[0m\u001b[1;33m]\u001b[0m \u001b[1;33m=\u001b[0m \u001b[0mpd\u001b[0m\u001b[1;33m.\u001b[0m\u001b[0mSeries\u001b[0m\u001b[1;33m(\u001b[0m\u001b[0mfnames\u001b[0m\u001b[1;33m)\u001b[0m\u001b[1;33m\u001b[0m\u001b[1;33m\u001b[0m\u001b[0m\n\u001b[0m\u001b[0;32m     15\u001b[0m \u001b[0mdata\u001b[0m\u001b[1;33m.\u001b[0m\u001b[0mhead\u001b[0m\u001b[1;33m(\u001b[0m\u001b[1;33m)\u001b[0m\u001b[1;33m\u001b[0m\u001b[1;33m\u001b[0m\u001b[0m\n",
      "\u001b[1;31mNameError\u001b[0m: name 'fnames' is not defined"
     ]
    }
   ],
   "source": [
    "\n",
    "import wget\n",
    "files = []\n",
    "errors = []\n",
    "for i in range(len(data)):\n",
    "    try:\n",
    "        \n",
    "        fname = wget.download(raw_url(data.iloc[i].link), out=\"data\")\n",
    "        files.append(fname)\n",
    "    except:\n",
    "        print(i)\n",
    "        errors.append(i)\n",
    "        files.append(\"ERROR\")\n",
    "data[\"file\"] = pd.Series(files)\n",
    "data.head()"
   ]
  },
  {
   "cell_type": "code",
   "execution_count": 16,
   "metadata": {},
   "outputs": [],
   "source": [
    "data.to_csv(\"data.csv\")"
   ]
  },
  {
   "cell_type": "code",
   "execution_count": 26,
   "metadata": {},
   "outputs": [],
   "source": [
    "dt = pd.read_csv(\"data.csv\", index_col=0)"
   ]
  },
  {
   "cell_type": "code",
   "execution_count": 28,
   "metadata": {},
   "outputs": [
    {
     "output_type": "stream",
     "name": "stdout",
     "text": [
      "1258\n1247\n"
     ]
    }
   ],
   "source": [
    "print(len(dt))\n",
    "dt = dt[dt.file != \"ERROR\"]\n",
    "print(len(dt))"
   ]
  },
  {
   "cell_type": "code",
   "execution_count": 29,
   "metadata": {},
   "outputs": [],
   "source": [
    "dt.to_csv(\"no_errors.csv\")"
   ]
  },
  {
   "cell_type": "code",
   "execution_count": 3,
   "metadata": {},
   "outputs": [],
   "source": [
    "import pandas as pd \n",
    "import numpy as np\n",
    "dt = pd.read_csv(\"no_errors.csv\")"
   ]
  },
  {
   "cell_type": "code",
   "execution_count": 25,
   "metadata": {},
   "outputs": [
    {
     "output_type": "execute_result",
     "data": {
      "text/plain": [
       "1247"
      ]
     },
     "metadata": {},
     "execution_count": 25
    }
   ],
   "source": [
    "len(dt)"
   ]
  },
  {
   "cell_type": "code",
   "execution_count": 22,
   "metadata": {},
   "outputs": [
    {
     "output_type": "execute_result",
     "data": {
      "text/plain": [
       "     Problem                                      Package  \\\n",
       "0          1           org.apache.royale.compiler.clients   \n",
       "1          2           org.apache.royale.compiler.clients   \n",
       "2          1       org.apache.tajo.org.objectweb.asm.util   \n",
       "3          1             org.apache.maven.plugins.javadoc   \n",
       "4          2             org.apache.maven.plugins.javadoc   \n",
       "..       ...                                          ...   \n",
       "489        1   com.sun.org.apache.xerces.internal.impl.xs   \n",
       "490        2   com.sun.org.apache.xerces.internal.impl.xs   \n",
       "491        1  org.apache.ode.bpel.elang.xquery10.compiler   \n",
       "492        1           org.eclipse.xtext.xbase.validation   \n",
       "493        1       org.eclipse.xtext.xtext.ecoreInference   \n",
       "\n",
       "                                         file  Line  \n",
       "0                               data/ASC.java   756  \n",
       "1                               data/ASC.java  1291  \n",
       "2                          data/ASMifier.java   822  \n",
       "3               data/AbstractJavadocMojo.java  1951  \n",
       "4               data/AbstractJavadocMojo.java  3622  \n",
       "..                                        ...   ...  \n",
       "489                 data/XMLSchemaLoader.java   759  \n",
       "490                 data/XMLSchemaLoader.java  1000  \n",
       "491  data/XQuery10ExpressionCompilerImpl.java   147  \n",
       "492                  data/XbaseValidator.java   630  \n",
       "493          data/Xtext2EcoreTransformer.java   393  \n",
       "\n",
       "[494 rows x 4 columns]"
      ],
      "text/html": "<div>\n<style scoped>\n    .dataframe tbody tr th:only-of-type {\n        vertical-align: middle;\n    }\n\n    .dataframe tbody tr th {\n        vertical-align: top;\n    }\n\n    .dataframe thead th {\n        text-align: right;\n    }\n</style>\n<table border=\"1\" class=\"dataframe\">\n  <thead>\n    <tr style=\"text-align: right;\">\n      <th></th>\n      <th>Problem</th>\n      <th>Package</th>\n      <th>file</th>\n      <th>Line</th>\n    </tr>\n  </thead>\n  <tbody>\n    <tr>\n      <th>0</th>\n      <td>1</td>\n      <td>org.apache.royale.compiler.clients</td>\n      <td>data/ASC.java</td>\n      <td>756</td>\n    </tr>\n    <tr>\n      <th>1</th>\n      <td>2</td>\n      <td>org.apache.royale.compiler.clients</td>\n      <td>data/ASC.java</td>\n      <td>1291</td>\n    </tr>\n    <tr>\n      <th>2</th>\n      <td>1</td>\n      <td>org.apache.tajo.org.objectweb.asm.util</td>\n      <td>data/ASMifier.java</td>\n      <td>822</td>\n    </tr>\n    <tr>\n      <th>3</th>\n      <td>1</td>\n      <td>org.apache.maven.plugins.javadoc</td>\n      <td>data/AbstractJavadocMojo.java</td>\n      <td>1951</td>\n    </tr>\n    <tr>\n      <th>4</th>\n      <td>2</td>\n      <td>org.apache.maven.plugins.javadoc</td>\n      <td>data/AbstractJavadocMojo.java</td>\n      <td>3622</td>\n    </tr>\n    <tr>\n      <th>...</th>\n      <td>...</td>\n      <td>...</td>\n      <td>...</td>\n      <td>...</td>\n    </tr>\n    <tr>\n      <th>489</th>\n      <td>1</td>\n      <td>com.sun.org.apache.xerces.internal.impl.xs</td>\n      <td>data/XMLSchemaLoader.java</td>\n      <td>759</td>\n    </tr>\n    <tr>\n      <th>490</th>\n      <td>2</td>\n      <td>com.sun.org.apache.xerces.internal.impl.xs</td>\n      <td>data/XMLSchemaLoader.java</td>\n      <td>1000</td>\n    </tr>\n    <tr>\n      <th>491</th>\n      <td>1</td>\n      <td>org.apache.ode.bpel.elang.xquery10.compiler</td>\n      <td>data/XQuery10ExpressionCompilerImpl.java</td>\n      <td>147</td>\n    </tr>\n    <tr>\n      <th>492</th>\n      <td>1</td>\n      <td>org.eclipse.xtext.xbase.validation</td>\n      <td>data/XbaseValidator.java</td>\n      <td>630</td>\n    </tr>\n    <tr>\n      <th>493</th>\n      <td>1</td>\n      <td>org.eclipse.xtext.xtext.ecoreInference</td>\n      <td>data/Xtext2EcoreTransformer.java</td>\n      <td>393</td>\n    </tr>\n  </tbody>\n</table>\n<p>494 rows × 4 columns</p>\n</div>"
     },
     "metadata": {},
     "execution_count": 22
    }
   ],
   "source": [
    "pmd = pd.read_csv(\"pmd.csv\")\n",
    "pmd = pmd.drop([\"Priority\", \"Description\", \"Rule set\", \"Rule\"],axis=1)\n",
    "pmd.columns = ['Problem', 'Package', 'file', 'Line']\n",
    "pmd.file = pmd.file.map(lambda f: f[8:])\n",
    "pmd.file = pmd.file.map(lambda f: f.replace('\\\\', '/'))\n",
    "pmd"
   ]
  },
  {
   "cell_type": "code",
   "execution_count": 31,
   "metadata": {},
   "outputs": [
    {
     "output_type": "execute_result",
     "data": {
      "text/plain": [
       "0.6422607578676942"
      ]
     },
     "metadata": {},
     "execution_count": 31
    }
   ],
   "source": [
    "joined = pd.merge(dt, pmd, on=\"file\", how=\"left\")\n",
    "len(joined[joined.start_line == joined.Line]) / len(joined) * 100"
   ]
  },
  {
   "cell_type": "code",
   "execution_count": null,
   "metadata": {},
   "outputs": [],
   "source": []
  }
 ]
}