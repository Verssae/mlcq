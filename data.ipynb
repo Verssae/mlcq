{
 "metadata": {
  "language_info": {
   "codemirror_mode": {
    "name": "ipython",
    "version": 3
   },
   "file_extension": ".py",
   "mimetype": "text/x-python",
   "name": "python",
   "nbconvert_exporter": "python",
   "pygments_lexer": "ipython3",
   "version": "3.8.5-final"
  },
  "orig_nbformat": 2,
  "kernelspec": {
   "name": "Python 3.8.5 64-bit ('paper': conda)",
   "display_name": "Python 3.8.5 64-bit ('paper': conda)",
   "metadata": {
    "interpreter": {
     "hash": "5f640b0ed31a12fcffaa1e44d8b03c066c3a27063d251cf3bbb15f2ec5efccb1"
    }
   }
  }
 },
 "nbformat": 4,
 "nbformat_minor": 2,
 "cells": [
  {
   "source": [
    "# MLCQ Dataset"
   ],
   "cell_type": "markdown",
   "metadata": {}
  },
  {
   "cell_type": "code",
   "execution_count": 2,
   "metadata": {},
   "outputs": [],
   "source": [
    "import numpy as np \n",
    "import pandas as pd\n",
    "import os"
   ]
  },
  {
   "cell_type": "code",
   "execution_count": 3,
   "metadata": {},
   "outputs": [],
   "source": [
    "def sevrity_to_numeric(severity):\n",
    "    if severity == 'none':\n",
    "        return 0\n",
    "    elif severity == 'minor':\n",
    "        return 1\n",
    "    elif severity == 'major':\n",
    "        return 2\n",
    "    elif severity == 'critical':\n",
    "        return 3\n",
    "    else:\n",
    "        print(f'sev: {severity}')\n",
    "        raise Exception "
   ]
  },
  {
   "cell_type": "code",
   "execution_count": 4,
   "metadata": {},
   "outputs": [],
   "source": [
    "def combine_severities(df, sample):\n",
    "    rows = df[df.sample_id == sample]\n",
    "    return [i for i in rows.severity.array]"
   ]
  },
  {
   "cell_type": "code",
   "execution_count": 10,
   "metadata": {
    "tags": []
   },
   "outputs": [
    {
     "output_type": "execute_result",
     "data": {
      "text/plain": [
       "          id  sample_id         smell      type  \\\n",
       "1364    1902    3698323    data class     class   \n",
       "1357    1895    3698602  feature envy  function   \n",
       "1359    1897    3698665  feature envy  function   \n",
       "1355    1893    3698860   long method  function   \n",
       "1362    1900    3699227   long method  function   \n",
       "...      ...        ...           ...       ...   \n",
       "7110    7689    9540354          blob     class   \n",
       "10206  10808    9542671    data class     class   \n",
       "4781    5352    9542718  feature envy  function   \n",
       "9135    9733    9548458          blob     class   \n",
       "4156    4722    9553496          blob     class   \n",
       "\n",
       "                                               code_name  \\\n",
       "1364   com.amazon.ask.dispatcher.request.handler.impl...   \n",
       "1357   com.amazon.ask.request.mapper.impl.BaseRequest...   \n",
       "1359   com.amazon.ask.builder.impl.AbstractSkillBuild...   \n",
       "1355   com.alibaba.android.arouter.facade.model.Route...   \n",
       "1362   com.alibaba.android.arouter.facade.enums.#getC...   \n",
       "...                                                  ...   \n",
       "7110   org.apache.hadoop.yarn.server.nodemanager.cont...   \n",
       "10206  org.apache.hadoop.yarn.webapp.hamlet2.HamletSp...   \n",
       "4781   org.apache.hadoop.mapred.NotRunningJob#killTas...   \n",
       "9135   org.apache.hadoop.metrics2.sink.ganglia.Gangli...   \n",
       "4156   org.apache.hadoop.yarn.server.nodemanager.reco...   \n",
       "\n",
       "                                              repository  \\\n",
       "1364   git@github.com:alexa/alexa-skills-kit-sdk-for-...   \n",
       "1357   git@github.com:alexa/alexa-skills-kit-sdk-for-...   \n",
       "1359   git@github.com:alexa/alexa-skills-kit-sdk-for-...   \n",
       "1355                  git@github.com:alibaba/ARouter.git   \n",
       "1362                  git@github.com:alibaba/ARouter.git   \n",
       "...                                                  ...   \n",
       "7110                    git@github.com:apache/hadoop.git   \n",
       "10206                   git@github.com:apache/hadoop.git   \n",
       "4781                    git@github.com:apache/hadoop.git   \n",
       "9135                    git@github.com:apache/hadoop.git   \n",
       "4156                    git@github.com:apache/hadoop.git   \n",
       "\n",
       "                                    commit_hash  \\\n",
       "1364   bf1e9ccc50d1f3f8408f887f70197ee288fd4bd9   \n",
       "1357   bf1e9ccc50d1f3f8408f887f70197ee288fd4bd9   \n",
       "1359   bf1e9ccc50d1f3f8408f887f70197ee288fd4bd9   \n",
       "1355   93b328569bbdbf75e4aa87f0ecf48c69600591b2   \n",
       "1362   93b328569bbdbf75e4aa87f0ecf48c69600591b2   \n",
       "...                                         ...   \n",
       "7110   128dd91e10080bdcbcd7d555fa3c4105e55a6b51   \n",
       "10206  128dd91e10080bdcbcd7d555fa3c4105e55a6b51   \n",
       "4781   128dd91e10080bdcbcd7d555fa3c4105e55a6b51   \n",
       "9135   128dd91e10080bdcbcd7d555fa3c4105e55a6b51   \n",
       "4156   128dd91e10080bdcbcd7d555fa3c4105e55a6b51   \n",
       "\n",
       "                                                    path  start_line  \\\n",
       "1364   /ask-sdk-core/src/com/amazon/ask/dispatcher/re...          26   \n",
       "1357   /ask-sdk-runtime/src/com/amazon/ask/request/ma...          79   \n",
       "1359   /ask-sdk-runtime/src/com/amazon/ask/builder/im...          91   \n",
       "1355   /arouter-annotation/src/main/java/com/alibaba/...         200   \n",
       "1362   /arouter-annotation/src/main/java/com/alibaba/...          32   \n",
       "...                                                  ...         ...   \n",
       "7110   /hadoop-yarn-project/hadoop-yarn/hadoop-yarn-s...          24   \n",
       "10206  /hadoop-yarn-project/hadoop-yarn/hadoop-yarn-c...        1772   \n",
       "4781   /hadoop-mapreduce-project/hadoop-mapreduce-cli...         213   \n",
       "9135   /hadoop-common-project/hadoop-common/src/main/...          46   \n",
       "4156   /hadoop-yarn-project/hadoop-yarn/hadoop-yarn-s...          41   \n",
       "\n",
       "       end_line                                               link  \\\n",
       "1364         59  https://github.com/alexa/alexa-skills-kit-sdk-...   \n",
       "1357         81  https://github.com/alexa/alexa-skills-kit-sdk-...   \n",
       "1359         94  https://github.com/alexa/alexa-skills-kit-sdk-...   \n",
       "1355        213  https://github.com/alibaba/ARouter/blob/93b328...   \n",
       "1362         34  https://github.com/alibaba/ARouter/blob/93b328...   \n",
       "...         ...                                                ...   \n",
       "7110         39  https://github.com/apache/hadoop/blob/128dd91e...   \n",
       "10206      1820  https://github.com/apache/hadoop/blob/128dd91e...   \n",
       "4781        219  https://github.com/apache/hadoop/blob/128dd91e...   \n",
       "9135        253  https://github.com/apache/hadoop/blob/128dd91e...   \n",
       "4156        294  https://github.com/apache/hadoop/blob/128dd91e...   \n",
       "\n",
       "       is_from_industry_relevant_project          severities       avg  \n",
       "1364                                 1.0              [0, 0]  0.000000  \n",
       "1357                                 1.0              [0, 0]  0.000000  \n",
       "1359                                 1.0              [0, 0]  0.000000  \n",
       "1355                                 1.0              [0, 0]  0.000000  \n",
       "1362                                 1.0              [0, 0]  0.000000  \n",
       "...                                  ...                 ...       ...  \n",
       "7110                                 1.0              [0, 0]  0.000000  \n",
       "10206                                1.0  [0, 0, 0, 2, 0, 0]  0.333333  \n",
       "4781                                 1.0              [0, 0]  0.000000  \n",
       "9135                                 1.0              [0, 0]  0.000000  \n",
       "4156                                 1.0              [0, 0]  0.000000  \n",
       "\n",
       "[4770 rows x 14 columns]"
      ],
      "text/html": "<div>\n<style scoped>\n    .dataframe tbody tr th:only-of-type {\n        vertical-align: middle;\n    }\n\n    .dataframe tbody tr th {\n        vertical-align: top;\n    }\n\n    .dataframe thead th {\n        text-align: right;\n    }\n</style>\n<table border=\"1\" class=\"dataframe\">\n  <thead>\n    <tr style=\"text-align: right;\">\n      <th></th>\n      <th>id</th>\n      <th>sample_id</th>\n      <th>smell</th>\n      <th>type</th>\n      <th>code_name</th>\n      <th>repository</th>\n      <th>commit_hash</th>\n      <th>path</th>\n      <th>start_line</th>\n      <th>end_line</th>\n      <th>link</th>\n      <th>is_from_industry_relevant_project</th>\n      <th>severities</th>\n      <th>avg</th>\n    </tr>\n  </thead>\n  <tbody>\n    <tr>\n      <th>1364</th>\n      <td>1902</td>\n      <td>3698323</td>\n      <td>data class</td>\n      <td>class</td>\n      <td>com.amazon.ask.dispatcher.request.handler.impl...</td>\n      <td>git@github.com:alexa/alexa-skills-kit-sdk-for-...</td>\n      <td>bf1e9ccc50d1f3f8408f887f70197ee288fd4bd9</td>\n      <td>/ask-sdk-core/src/com/amazon/ask/dispatcher/re...</td>\n      <td>26</td>\n      <td>59</td>\n      <td>https://github.com/alexa/alexa-skills-kit-sdk-...</td>\n      <td>1.0</td>\n      <td>[0, 0]</td>\n      <td>0.000000</td>\n    </tr>\n    <tr>\n      <th>1357</th>\n      <td>1895</td>\n      <td>3698602</td>\n      <td>feature envy</td>\n      <td>function</td>\n      <td>com.amazon.ask.request.mapper.impl.BaseRequest...</td>\n      <td>git@github.com:alexa/alexa-skills-kit-sdk-for-...</td>\n      <td>bf1e9ccc50d1f3f8408f887f70197ee288fd4bd9</td>\n      <td>/ask-sdk-runtime/src/com/amazon/ask/request/ma...</td>\n      <td>79</td>\n      <td>81</td>\n      <td>https://github.com/alexa/alexa-skills-kit-sdk-...</td>\n      <td>1.0</td>\n      <td>[0, 0]</td>\n      <td>0.000000</td>\n    </tr>\n    <tr>\n      <th>1359</th>\n      <td>1897</td>\n      <td>3698665</td>\n      <td>feature envy</td>\n      <td>function</td>\n      <td>com.amazon.ask.builder.impl.AbstractSkillBuild...</td>\n      <td>git@github.com:alexa/alexa-skills-kit-sdk-for-...</td>\n      <td>bf1e9ccc50d1f3f8408f887f70197ee288fd4bd9</td>\n      <td>/ask-sdk-runtime/src/com/amazon/ask/builder/im...</td>\n      <td>91</td>\n      <td>94</td>\n      <td>https://github.com/alexa/alexa-skills-kit-sdk-...</td>\n      <td>1.0</td>\n      <td>[0, 0]</td>\n      <td>0.000000</td>\n    </tr>\n    <tr>\n      <th>1355</th>\n      <td>1893</td>\n      <td>3698860</td>\n      <td>long method</td>\n      <td>function</td>\n      <td>com.alibaba.android.arouter.facade.model.Route...</td>\n      <td>git@github.com:alibaba/ARouter.git</td>\n      <td>93b328569bbdbf75e4aa87f0ecf48c69600591b2</td>\n      <td>/arouter-annotation/src/main/java/com/alibaba/...</td>\n      <td>200</td>\n      <td>213</td>\n      <td>https://github.com/alibaba/ARouter/blob/93b328...</td>\n      <td>1.0</td>\n      <td>[0, 0]</td>\n      <td>0.000000</td>\n    </tr>\n    <tr>\n      <th>1362</th>\n      <td>1900</td>\n      <td>3699227</td>\n      <td>long method</td>\n      <td>function</td>\n      <td>com.alibaba.android.arouter.facade.enums.#getC...</td>\n      <td>git@github.com:alibaba/ARouter.git</td>\n      <td>93b328569bbdbf75e4aa87f0ecf48c69600591b2</td>\n      <td>/arouter-annotation/src/main/java/com/alibaba/...</td>\n      <td>32</td>\n      <td>34</td>\n      <td>https://github.com/alibaba/ARouter/blob/93b328...</td>\n      <td>1.0</td>\n      <td>[0, 0]</td>\n      <td>0.000000</td>\n    </tr>\n    <tr>\n      <th>...</th>\n      <td>...</td>\n      <td>...</td>\n      <td>...</td>\n      <td>...</td>\n      <td>...</td>\n      <td>...</td>\n      <td>...</td>\n      <td>...</td>\n      <td>...</td>\n      <td>...</td>\n      <td>...</td>\n      <td>...</td>\n      <td>...</td>\n      <td>...</td>\n    </tr>\n    <tr>\n      <th>7110</th>\n      <td>7689</td>\n      <td>9540354</td>\n      <td>blob</td>\n      <td>class</td>\n      <td>org.apache.hadoop.yarn.server.nodemanager.cont...</td>\n      <td>git@github.com:apache/hadoop.git</td>\n      <td>128dd91e10080bdcbcd7d555fa3c4105e55a6b51</td>\n      <td>/hadoop-yarn-project/hadoop-yarn/hadoop-yarn-s...</td>\n      <td>24</td>\n      <td>39</td>\n      <td>https://github.com/apache/hadoop/blob/128dd91e...</td>\n      <td>1.0</td>\n      <td>[0, 0]</td>\n      <td>0.000000</td>\n    </tr>\n    <tr>\n      <th>10206</th>\n      <td>10808</td>\n      <td>9542671</td>\n      <td>data class</td>\n      <td>class</td>\n      <td>org.apache.hadoop.yarn.webapp.hamlet2.HamletSp...</td>\n      <td>git@github.com:apache/hadoop.git</td>\n      <td>128dd91e10080bdcbcd7d555fa3c4105e55a6b51</td>\n      <td>/hadoop-yarn-project/hadoop-yarn/hadoop-yarn-c...</td>\n      <td>1772</td>\n      <td>1820</td>\n      <td>https://github.com/apache/hadoop/blob/128dd91e...</td>\n      <td>1.0</td>\n      <td>[0, 0, 0, 2, 0, 0]</td>\n      <td>0.333333</td>\n    </tr>\n    <tr>\n      <th>4781</th>\n      <td>5352</td>\n      <td>9542718</td>\n      <td>feature envy</td>\n      <td>function</td>\n      <td>org.apache.hadoop.mapred.NotRunningJob#killTas...</td>\n      <td>git@github.com:apache/hadoop.git</td>\n      <td>128dd91e10080bdcbcd7d555fa3c4105e55a6b51</td>\n      <td>/hadoop-mapreduce-project/hadoop-mapreduce-cli...</td>\n      <td>213</td>\n      <td>219</td>\n      <td>https://github.com/apache/hadoop/blob/128dd91e...</td>\n      <td>1.0</td>\n      <td>[0, 0]</td>\n      <td>0.000000</td>\n    </tr>\n    <tr>\n      <th>9135</th>\n      <td>9733</td>\n      <td>9548458</td>\n      <td>blob</td>\n      <td>class</td>\n      <td>org.apache.hadoop.metrics2.sink.ganglia.Gangli...</td>\n      <td>git@github.com:apache/hadoop.git</td>\n      <td>128dd91e10080bdcbcd7d555fa3c4105e55a6b51</td>\n      <td>/hadoop-common-project/hadoop-common/src/main/...</td>\n      <td>46</td>\n      <td>253</td>\n      <td>https://github.com/apache/hadoop/blob/128dd91e...</td>\n      <td>1.0</td>\n      <td>[0, 0]</td>\n      <td>0.000000</td>\n    </tr>\n    <tr>\n      <th>4156</th>\n      <td>4722</td>\n      <td>9553496</td>\n      <td>blob</td>\n      <td>class</td>\n      <td>org.apache.hadoop.yarn.server.nodemanager.reco...</td>\n      <td>git@github.com:apache/hadoop.git</td>\n      <td>128dd91e10080bdcbcd7d555fa3c4105e55a6b51</td>\n      <td>/hadoop-yarn-project/hadoop-yarn/hadoop-yarn-s...</td>\n      <td>41</td>\n      <td>294</td>\n      <td>https://github.com/apache/hadoop/blob/128dd91e...</td>\n      <td>1.0</td>\n      <td>[0, 0]</td>\n      <td>0.000000</td>\n    </tr>\n  </tbody>\n</table>\n<p>4770 rows × 14 columns</p>\n</div>"
     },
     "metadata": {},
     "execution_count": 10
    }
   ],
   "source": [
    "mlcq = pd.read_csv('mlcq.csv').sort_values(by=\"sample_id\")\n",
    "samples = mlcq.drop_duplicates(\"sample_id\").sample_id\n",
    "# severity 제외 공통된 부분만 픽\n",
    "mlcq = mlcq.drop([\"reviewer_id\",\"review_timestamp\"],axis=1)\n",
    "mlcq.severity = mlcq.severity.map(lambda s: sevrity_to_numeric(s))\n",
    "severities = samples.map(lambda sample: combine_severities(mlcq, sample))\n",
    "\n",
    "mlcq[\"severities\"] = pd.Series(severities)\n",
    "mlcq = mlcq.drop([\"severity\"], axis=1)\n",
    "mlcq = mlcq.drop_duplicates([\"sample_id\"])\n",
    "mlcq[\"avg\"] = mlcq.severities.map(lambda ss: np.mean(ss))\n",
    "mlcq"
   ]
  },
  {
   "cell_type": "code",
   "execution_count": 28,
   "metadata": {},
   "outputs": [
    {
     "output_type": "stream",
     "name": "stdout",
     "text": [
      "whole no smells : 74.2% (3538 / 4770)\nlong methods smell : 19.5% (245 / 1258)\n"
     ]
    }
   ],
   "source": [
    "none_count = len(mlcq[mlcq.avg == 0])\n",
    "print(f'whole no smells : {none_count / len(mlcq) * 100:2.3}% ({none_count} / {len(mlcq)})')\n",
    "data = mlcq[mlcq.smell == \"long method\"]\n",
    "lm_cnt = len(data[data.avg > 0])\n",
    "print(f'long methods smell : {lm_cnt / len(data) * 100:2.3}% ({lm_cnt} / {len(data)})')"
   ]
  }
 ]
}